{
 "cells": [
  {
   "cell_type": "code",
   "execution_count": 1,
   "metadata": {},
   "outputs": [],
   "source": [
    "import pandas as pd\n",
    "import pickle as pkl\n",
    "import os"
   ]
  },
  {
   "cell_type": "code",
   "execution_count": null,
   "metadata": {},
   "outputs": [],
   "source": [
    "df = pd.read_excel('/Data/deeksha/disha/ProtTrans/data/final_excel_files/ts115_final.xlsx')\n",
    "df.rename(columns={'input_x':'input', 'input_y': 'npz'}, inplace=True)\n",
    "df.head()"
   ]
  },
  {
   "attachments": {},
   "cell_type": "markdown",
   "metadata": {},
   "source": [
    "### Checking extra samples"
   ]
  },
  {
   "cell_type": "code",
   "execution_count": 3,
   "metadata": {},
   "outputs": [],
   "source": [
    "pdbids = df['pdbid'].tolist()"
   ]
  },
  {
   "cell_type": "code",
   "execution_count": null,
   "metadata": {},
   "outputs": [],
   "source": [
    "\n",
    "pdb_files = os.listdir('/Data/deeksha/disha/ProtTrans/data/pdbid_files')\n",
    "pdb_files = [i.split('.')[0] for i in pdb_files]\n",
    "len(pdb_files), df.pdbid.nunique()"
   ]
  },
  {
   "cell_type": "code",
   "execution_count": null,
   "metadata": {},
   "outputs": [],
   "source": [
    "set(df.pdbid.unique()) - set(pdb_files) "
   ]
  },
  {
   "cell_type": "code",
   "execution_count": null,
   "metadata": {},
   "outputs": [],
   "source": [
    "df.loc[df.pdbid.isin(set(df.pdbid.unique()) - set(pdb_files))]"
   ]
  },
  {
   "cell_type": "code",
   "execution_count": null,
   "metadata": {},
   "outputs": [],
   "source": [
    "df = df.loc[~df.pdbid.isin(set(df.pdbid.unique()) - set(pdb_files))]\n",
    "df.shape"
   ]
  },
  {
   "cell_type": "code",
   "execution_count": 8,
   "metadata": {},
   "outputs": [],
   "source": [
    "with open(\"/Data/deeksha/disha/ProtTrans/data/dic_seq.pkl\", 'rb') as f:\n",
    "    dic_seq = pkl.load(f)\n",
    "dic_seq.keys()"
   ]
  },
  {
   "cell_type": "code",
   "execution_count": null,
   "metadata": {},
   "outputs": [],
   "source": [
    "print('No of pdb files available: ', len(dic_seq))"
   ]
  },
  {
   "attachments": {},
   "cell_type": "markdown",
   "metadata": {},
   "source": [
    "### ------------------------------------------------------------------------"
   ]
  },
  {
   "cell_type": "code",
   "execution_count": null,
   "metadata": {},
   "outputs": [],
   "source": [
    "df.columns"
   ]
  },
  {
   "cell_type": "code",
   "execution_count": 14,
   "metadata": {},
   "outputs": [],
   "source": [
    "df['input'] = df['input'].apply(lambda x: \"\".join(x.split(' ')))\n",
    "df['dssp8'] = df['dssp8'].apply(lambda x: \"\".join(x.split(' ')))\n",
    "# df[' dssp3'] = df[' dssp3'].apply(lambda x: \"\".join(x.split(' ')))\n"
   ]
  },
  {
   "cell_type": "code",
   "execution_count": 15,
   "metadata": {},
   "outputs": [],
   "source": [
    "with open('/Data/deeksha/disha/ProtTrans/data/q8_data/text_file/ts115.txt', 'w') as f:\n",
    "    for i, row in df.iterrows():\n",
    "        f.write('>'+row['pdbid'] + '\\n' + row['input'] + '\\n' + row['dssp8'] + '\\n\\n')\n",
    "        # f.write('>'+row['pdbid'] + '\\n' + row['input'] + '\\n' + row[' dssp3'] + '\\n\\n')"
   ]
  }
 ],
 "metadata": {
  "kernelspec": {
   "display_name": "base",
   "language": "python",
   "name": "python3"
  },
  "language_info": {
   "codemirror_mode": {
    "name": "ipython",
    "version": 3
   },
   "file_extension": ".py",
   "mimetype": "text/x-python",
   "name": "python",
   "nbconvert_exporter": "python",
   "pygments_lexer": "ipython3",
   "version": "3.10.12"
  },
  "orig_nbformat": 4
 },
 "nbformat": 4,
 "nbformat_minor": 2
}
